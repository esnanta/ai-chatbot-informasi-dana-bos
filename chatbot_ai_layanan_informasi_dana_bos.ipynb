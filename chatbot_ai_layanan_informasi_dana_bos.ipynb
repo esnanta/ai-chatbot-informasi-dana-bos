{
  "nbformat": 4,
  "nbformat_minor": 0,
  "metadata": {
    "colab": {
      "provenance": []
    },
    "kernelspec": {
      "name": "python3",
      "display_name": "Python 3"
    },
    "language_info": {
      "name": "python"
    }
  },
  "cells": [
    {
      "cell_type": "markdown",
      "source": [
        "# Introduction\n",
        "* Penjelasan tentang proyek AI Chatbot untuk regulasi Dana BOS.\n",
        "* Tujuan: Membantu pengguna mencari informasi tentang Dana BOS berdasarkan regulasi yang tersedia.\n",
        "* Metode: Menggunakan NLP untuk ekstraksi teks dan pencarian semantik dalam dokumen."
      ],
      "metadata": {
        "id": "B9lCgwJuNeHs"
      }
    },
    {
      "cell_type": "markdown",
      "source": [
        "# Import Library"
      ],
      "metadata": {
        "id": "uMo4iKw2NpWv"
      }
    },
    {
      "cell_type": "code",
      "execution_count": 1,
      "metadata": {
        "colab": {
          "base_uri": "https://localhost:8080/"
        },
        "id": "omTDcRywLsNw",
        "outputId": "e6bd8d5c-c5e8-4888-ae32-1c8b6b4f5693"
      },
      "outputs": [
        {
          "output_type": "stream",
          "name": "stdout",
          "text": [
            "Requirement already satisfied: pymupdf in /usr/local/lib/python3.11/dist-packages (1.25.4)\n",
            "Requirement already satisfied: nltk in /usr/local/lib/python3.11/dist-packages (3.9.1)\n",
            "Requirement already satisfied: sentence-transformers in /usr/local/lib/python3.11/dist-packages (3.4.1)\n",
            "Requirement already satisfied: click in /usr/local/lib/python3.11/dist-packages (from nltk) (8.1.8)\n",
            "Requirement already satisfied: joblib in /usr/local/lib/python3.11/dist-packages (from nltk) (1.4.2)\n",
            "Requirement already satisfied: regex>=2021.8.3 in /usr/local/lib/python3.11/dist-packages (from nltk) (2024.11.6)\n",
            "Requirement already satisfied: tqdm in /usr/local/lib/python3.11/dist-packages (from nltk) (4.67.1)\n",
            "Requirement already satisfied: transformers<5.0.0,>=4.41.0 in /usr/local/lib/python3.11/dist-packages (from sentence-transformers) (4.48.3)\n",
            "Requirement already satisfied: torch>=1.11.0 in /usr/local/lib/python3.11/dist-packages (from sentence-transformers) (2.6.0+cu124)\n",
            "Requirement already satisfied: scikit-learn in /usr/local/lib/python3.11/dist-packages (from sentence-transformers) (1.6.1)\n",
            "Requirement already satisfied: scipy in /usr/local/lib/python3.11/dist-packages (from sentence-transformers) (1.14.1)\n",
            "Requirement already satisfied: huggingface-hub>=0.20.0 in /usr/local/lib/python3.11/dist-packages (from sentence-transformers) (0.28.1)\n",
            "Requirement already satisfied: Pillow in /usr/local/lib/python3.11/dist-packages (from sentence-transformers) (11.1.0)\n",
            "Requirement already satisfied: filelock in /usr/local/lib/python3.11/dist-packages (from huggingface-hub>=0.20.0->sentence-transformers) (3.17.0)\n",
            "Requirement already satisfied: fsspec>=2023.5.0 in /usr/local/lib/python3.11/dist-packages (from huggingface-hub>=0.20.0->sentence-transformers) (2024.10.0)\n",
            "Requirement already satisfied: packaging>=20.9 in /usr/local/lib/python3.11/dist-packages (from huggingface-hub>=0.20.0->sentence-transformers) (24.2)\n",
            "Requirement already satisfied: pyyaml>=5.1 in /usr/local/lib/python3.11/dist-packages (from huggingface-hub>=0.20.0->sentence-transformers) (6.0.2)\n",
            "Requirement already satisfied: requests in /usr/local/lib/python3.11/dist-packages (from huggingface-hub>=0.20.0->sentence-transformers) (2.32.3)\n",
            "Requirement already satisfied: typing-extensions>=3.7.4.3 in /usr/local/lib/python3.11/dist-packages (from huggingface-hub>=0.20.0->sentence-transformers) (4.12.2)\n",
            "Requirement already satisfied: networkx in /usr/local/lib/python3.11/dist-packages (from torch>=1.11.0->sentence-transformers) (3.4.2)\n",
            "Requirement already satisfied: jinja2 in /usr/local/lib/python3.11/dist-packages (from torch>=1.11.0->sentence-transformers) (3.1.6)\n",
            "Requirement already satisfied: nvidia-cuda-nvrtc-cu12==12.4.127 in /usr/local/lib/python3.11/dist-packages (from torch>=1.11.0->sentence-transformers) (12.4.127)\n",
            "Requirement already satisfied: nvidia-cuda-runtime-cu12==12.4.127 in /usr/local/lib/python3.11/dist-packages (from torch>=1.11.0->sentence-transformers) (12.4.127)\n",
            "Requirement already satisfied: nvidia-cuda-cupti-cu12==12.4.127 in /usr/local/lib/python3.11/dist-packages (from torch>=1.11.0->sentence-transformers) (12.4.127)\n",
            "Requirement already satisfied: nvidia-cudnn-cu12==9.1.0.70 in /usr/local/lib/python3.11/dist-packages (from torch>=1.11.0->sentence-transformers) (9.1.0.70)\n",
            "Requirement already satisfied: nvidia-cublas-cu12==12.4.5.8 in /usr/local/lib/python3.11/dist-packages (from torch>=1.11.0->sentence-transformers) (12.4.5.8)\n",
            "Requirement already satisfied: nvidia-cufft-cu12==11.2.1.3 in /usr/local/lib/python3.11/dist-packages (from torch>=1.11.0->sentence-transformers) (11.2.1.3)\n",
            "Requirement already satisfied: nvidia-curand-cu12==10.3.5.147 in /usr/local/lib/python3.11/dist-packages (from torch>=1.11.0->sentence-transformers) (10.3.5.147)\n",
            "Requirement already satisfied: nvidia-cusolver-cu12==11.6.1.9 in /usr/local/lib/python3.11/dist-packages (from torch>=1.11.0->sentence-transformers) (11.6.1.9)\n",
            "Requirement already satisfied: nvidia-cusparse-cu12==12.3.1.170 in /usr/local/lib/python3.11/dist-packages (from torch>=1.11.0->sentence-transformers) (12.3.1.170)\n",
            "Requirement already satisfied: nvidia-cusparselt-cu12==0.6.2 in /usr/local/lib/python3.11/dist-packages (from torch>=1.11.0->sentence-transformers) (0.6.2)\n",
            "Requirement already satisfied: nvidia-nccl-cu12==2.21.5 in /usr/local/lib/python3.11/dist-packages (from torch>=1.11.0->sentence-transformers) (2.21.5)\n",
            "Requirement already satisfied: nvidia-nvtx-cu12==12.4.127 in /usr/local/lib/python3.11/dist-packages (from torch>=1.11.0->sentence-transformers) (12.4.127)\n",
            "Requirement already satisfied: nvidia-nvjitlink-cu12==12.4.127 in /usr/local/lib/python3.11/dist-packages (from torch>=1.11.0->sentence-transformers) (12.4.127)\n",
            "Requirement already satisfied: triton==3.2.0 in /usr/local/lib/python3.11/dist-packages (from torch>=1.11.0->sentence-transformers) (3.2.0)\n",
            "Requirement already satisfied: sympy==1.13.1 in /usr/local/lib/python3.11/dist-packages (from torch>=1.11.0->sentence-transformers) (1.13.1)\n",
            "Requirement already satisfied: mpmath<1.4,>=1.1.0 in /usr/local/lib/python3.11/dist-packages (from sympy==1.13.1->torch>=1.11.0->sentence-transformers) (1.3.0)\n",
            "Requirement already satisfied: numpy>=1.17 in /usr/local/lib/python3.11/dist-packages (from transformers<5.0.0,>=4.41.0->sentence-transformers) (2.0.2)\n",
            "Requirement already satisfied: tokenizers<0.22,>=0.21 in /usr/local/lib/python3.11/dist-packages (from transformers<5.0.0,>=4.41.0->sentence-transformers) (0.21.1)\n",
            "Requirement already satisfied: safetensors>=0.4.1 in /usr/local/lib/python3.11/dist-packages (from transformers<5.0.0,>=4.41.0->sentence-transformers) (0.5.3)\n",
            "Requirement already satisfied: threadpoolctl>=3.1.0 in /usr/local/lib/python3.11/dist-packages (from scikit-learn->sentence-transformers) (3.6.0)\n",
            "Requirement already satisfied: MarkupSafe>=2.0 in /usr/local/lib/python3.11/dist-packages (from jinja2->torch>=1.11.0->sentence-transformers) (3.0.2)\n",
            "Requirement already satisfied: charset-normalizer<4,>=2 in /usr/local/lib/python3.11/dist-packages (from requests->huggingface-hub>=0.20.0->sentence-transformers) (3.4.1)\n",
            "Requirement already satisfied: idna<4,>=2.5 in /usr/local/lib/python3.11/dist-packages (from requests->huggingface-hub>=0.20.0->sentence-transformers) (3.10)\n",
            "Requirement already satisfied: urllib3<3,>=1.21.1 in /usr/local/lib/python3.11/dist-packages (from requests->huggingface-hub>=0.20.0->sentence-transformers) (2.3.0)\n",
            "Requirement already satisfied: certifi>=2017.4.17 in /usr/local/lib/python3.11/dist-packages (from requests->huggingface-hub>=0.20.0->sentence-transformers) (2025.1.31)\n"
          ]
        },
        {
          "output_type": "stream",
          "name": "stderr",
          "text": [
            "[nltk_data] Downloading package punkt to /root/nltk_data...\n",
            "[nltk_data]   Package punkt is already up-to-date!\n",
            "[nltk_data] Downloading package stopwords to /root/nltk_data...\n",
            "[nltk_data]   Package stopwords is already up-to-date!\n"
          ]
        },
        {
          "output_type": "execute_result",
          "data": {
            "text/plain": [
              "True"
            ]
          },
          "metadata": {},
          "execution_count": 1
        }
      ],
      "source": [
        "# Install library yang dibutuhkan\n",
        "!pip install pymupdf nltk sentence-transformers\n",
        "\n",
        "# Import library\n",
        "import os\n",
        "import re\n",
        "import json\n",
        "import fitz  # PyMuPDF untuk ekstraksi teks dari PDF\n",
        "import torch\n",
        "import nltk\n",
        "from nltk.tokenize import sent_tokenize\n",
        "from sentence_transformers import SentenceTransformer, util\n",
        "from google.colab import drive\n",
        "\n",
        "# Download NLTK tokenizer\n",
        "nltk.download('punkt')\n",
        "nltk.download('stopwords')"
      ]
    },
    {
      "cell_type": "markdown",
      "source": [
        "# Data Gathering"
      ],
      "metadata": {
        "id": "8SFcHCpwORjJ"
      }
    },
    {
      "cell_type": "code",
      "source": [
        "# Data Gathering\n",
        "# ===============================\n",
        "# 1. MOUNT GOOGLE DRIVE & CEK FILES\n",
        "# ===============================\n",
        "\n",
        "# Mount Google Drive\n",
        "drive.mount('/content/drive')\n",
        "\n",
        "# Path ke direktori penyimpanan file PDF\n",
        "pdf_dir = \"/content/drive/My Drive/Colab Notebooks/AI Chatbot Berbasis Regulasi\"\n",
        "\n",
        "# Cek apakah direktori ada\n",
        "if not os.path.exists(pdf_dir):\n",
        "    raise FileNotFoundError(f\"Direktori {pdf_dir} tidak ditemukan! Periksa kembali path-nya.\")\n",
        "else:\n",
        "    print(f\"Direktori ditemukan! Daftar file PDF: {os.listdir(pdf_dir)}\")\n"
      ],
      "metadata": {
        "colab": {
          "base_uri": "https://localhost:8080/"
        },
        "id": "SUAjLu-hOUiX",
        "outputId": "6f496e00-c98b-4286-9f3d-ef38684557bd"
      },
      "execution_count": 2,
      "outputs": [
        {
          "output_type": "stream",
          "name": "stdout",
          "text": [
            "Drive already mounted at /content/drive; to attempt to forcibly remount, call drive.mount(\"/content/drive\", force_remount=True).\n",
            "Direktori ditemukan! Daftar file PDF: ['PERMENDIKBUD 6 TAHUN 2021 - BOS REGULER.pdf', 'Permendikbudriset No. 63 Tahun 2023.pdf', 'PERMENDIKBUDRISTEK NOMOR 63 TAHUN 2022.pdf', 'Kepmen nomor 211 P 2024 Penerima BOP PAUD BOS kinerja BOP Kesetaraan kinerja 2024.pdf', 'extracted_text.json']\n"
          ]
        }
      ]
    },
    {
      "cell_type": "code",
      "source": [
        "# ===============================\n",
        "# 2. EKSTRAKSI TEKS DARI FILE PDF\n",
        "# ===============================\n",
        "\n",
        "def extract_text_from_pdf(pdf_path):\n",
        "    \"\"\"Mengekstrak teks dari file PDF.\"\"\"\n",
        "    doc = fitz.open(pdf_path)\n",
        "    text = \"\"\n",
        "    for page in doc:\n",
        "        text += page.get_text(\"text\") + \"\\n\"\n",
        "    return text.strip()\n",
        "\n",
        "# Ambil semua file PDF dari folder\n",
        "pdf_files = [f for f in os.listdir(pdf_dir) if f.endswith(\".pdf\")]\n",
        "\n",
        "# Dictionary untuk menyimpan hasil ekstraksi teks\n",
        "pdf_texts = {}\n",
        "\n",
        "# Loop ekstraksi teks untuk setiap file PDF\n",
        "for pdf_file in pdf_files:\n",
        "    pdf_path = os.path.join(pdf_dir, pdf_file)\n",
        "    text = extract_text_from_pdf(pdf_path)\n",
        "    pdf_texts[pdf_file] = text\n",
        "    print(f\"Teks berhasil diekstrak dari: {pdf_file}\")"
      ],
      "metadata": {
        "colab": {
          "base_uri": "https://localhost:8080/"
        },
        "id": "hFfX2D-2Qfsf",
        "outputId": "6a47e7f6-f6c0-499a-cde0-6a856fd52ce0"
      },
      "execution_count": 3,
      "outputs": [
        {
          "output_type": "stream",
          "name": "stdout",
          "text": [
            "Teks berhasil diekstrak dari: PERMENDIKBUD 6 TAHUN 2021 - BOS REGULER.pdf\n",
            "Teks berhasil diekstrak dari: Permendikbudriset No. 63 Tahun 2023.pdf\n",
            "Teks berhasil diekstrak dari: PERMENDIKBUDRISTEK NOMOR 63 TAHUN 2022.pdf\n",
            "Teks berhasil diekstrak dari: Kepmen nomor 211 P 2024 Penerima BOP PAUD BOS kinerja BOP Kesetaraan kinerja 2024.pdf\n"
          ]
        }
      ]
    },
    {
      "cell_type": "code",
      "source": [
        "# ===============================\n",
        "# 3. SIMPAN TEKS DALAM FILE JSON\n",
        "# ===============================\n",
        "\n",
        "json_path = os.path.join(pdf_dir, \"extracted_text.json\")\n",
        "with open(json_path, \"w\", encoding=\"utf-8\") as json_file:\n",
        "    json.dump(pdf_texts, json_file, ensure_ascii=False, indent=4)\n",
        "\n",
        "print(f\"Hasil ekstraksi teks disimpan dalam: {json_path}\")\n",
        "\n",
        "with open(json_path, \"r\", encoding=\"utf-8\") as json_file:\n",
        "    extracted_data = json.load(json_file)\n",
        "\n",
        "# Menampilkan sebagian isi JSON\n",
        "for pdf, text in extracted_data.items():\n",
        "    print(f\"\\n=== {pdf} ===\\n\")\n",
        "    print(text[:1000])  # Menampilkan 1000 karakter pertama"
      ],
      "metadata": {
        "colab": {
          "base_uri": "https://localhost:8080/"
        },
        "id": "KHaUz08k3Fbc",
        "outputId": "85ec6732-670c-4c94-beab-b05c7757cc3d"
      },
      "execution_count": 4,
      "outputs": [
        {
          "output_type": "stream",
          "name": "stdout",
          "text": [
            "Hasil ekstraksi teks disimpan dalam: /content/drive/My Drive/Colab Notebooks/AI Chatbot Berbasis Regulasi/extracted_text.json\n",
            "\n",
            "=== PERMENDIKBUD 6 TAHUN 2021 - BOS REGULER.pdf ===\n",
            "\n",
            "https://jdih.kemdikbud.go.id \n",
            "SALINAN \n",
            "MENTERI PENDIDIKAN DAN KEBUDAYAAN \n",
            "REPUBLIK  \n",
            " \n",
            " \n",
            " \n",
            "RANCNGAN \n",
            "PERATURAN MENTERI PENDIDIKAN DAN KEBUDAYAAN \n",
            "REPUBLIK INDONESIA \n",
            "NOMOR   6  TAHUN 2021 \n",
            "TENTANG \n",
            "PETUNJUK TEKNIS PENGELOLAAN  \n",
            "DANA BANTUAN OPERASIONAL SEKOLAH REGULER  \n",
            " \n",
            "DENGAN RAHMAT TUHAN YANG MAHA ESA \n",
            " \n",
            "MENTERI PENDIDIKAN DAN KEBUDAYAAN REPUBLIK INDONESIA, \n",
            " \n",
            " \n",
            "Menimbang \n",
            ":   a. \n",
            "bahwa untuk meningkatkan mutu pembelajaran dan \n",
            "pemerataan \n",
            "akses \n",
            "layanan \n",
            "Pendidikan, \n",
            "perlu \n",
            "mengalokasikan \n",
            "dan \n",
            "menyalurkan \n",
            "dana \n",
            "bantuan \n",
            "operasional sekolah reguler; \n",
            "b. \n",
            "bahwa untuk mendukung pengelolaan dana bantuan \n",
            "operasional sekolah reguler secara akuntabel dan tepat \n",
            "sasaran, perlu menyusun petunjuk teknis pengelolaan \n",
            "dana bantuan operasional sekolah reguler; \n",
            "c. \n",
            "bahwa Peraturan Menteri Pendidikan dan Kebudayaan \n",
            "Nomor 8 Tahun 2020 tentang Petunjuk Teknis Bantuan \n",
            "Operasional Sekolah Reguler sebagaimana telah diubah \n",
            "dengan Peraturan Menteri Pendidikan dan Kebudayaan \n",
            "Nomor 19 Tahun 2020 \n",
            "\n",
            "=== Permendikbudriset No. 63 Tahun 2023.pdf ===\n",
            "\n",
            "jdih.kemdikbud.go.id \n",
            " \n",
            "SALINAN \n",
            " \n",
            " \n",
            " \n",
            " \n",
            " \n",
            " \n",
            " \n",
            "RANCANGAN \n",
            "PERATURAN MENTERI PENDIDIKAN, KEBUDAYAAN, RISET, DAN TEKNOLOGI \n",
            "REPUBLIK INDONESIA \n",
            "NOMOR 63 TAHUN 2023 \n",
            "TENTANG \n",
            "PERUBAHAN ATAS PERATURAN MENTERI PENDIDIKAN, KEBUDAYAAN, \n",
            "RISET, DAN TEKNOLOGI NOMOR 63 TAHUN 2022 TENTANG PETUNJUK \n",
            "TEKNIS PENGELOLAAN DANA BANTUAN OPERASIONAL SATUAN PENDIDIKAN  \n",
            " \n",
            "DENGAN RAHMAT TUHAN YANG MAHA ESA \n",
            " \n",
            "MENTERI PENDIDIKAN, KEBUDAYAAN, RISET, DAN TEKNOLOGI, \n",
            "REPUBLIK INDONESIA, \n",
            "  \n",
            " \n",
            "Menimbang \n",
            ": a.  \n",
            "bahwa untuk meningkatkan efektivitas dan efisiensi \n",
            "pengelolaan dana bantuan operasional satuan pendidikan, \n",
            "perlu mengubah kebijakan pengelolaan dana bantuan \n",
            "operasional satuan pendidikan; \n",
            "b. \n",
            "bahwa Peraturan Menteri Pendidikan, Kebudayaan, Riset, \n",
            "dan Teknologi Nomor 63 Tahun 2022 tentang Petunjuk \n",
            "Teknis Pengelolaan Dana Bantuan Operasional Satuan \n",
            "Pendidikan, perlu menyesuaikan perubahan kebijakan \n",
            "dalam pengelolaan dana bantuan operasional satuan \n",
            "pendidikan; \n",
            "c. \n",
            "bahwa berdasarkan pertimbangan se\n",
            "\n",
            "=== PERMENDIKBUDRISTEK NOMOR 63 TAHUN 2022.pdf ===\n",
            "\n",
            "BERITA NEGARA \n",
            "REPUBLIK INDONESIA \n",
            "No.1342, 2022 \n",
            "KEMENDIKBUD-RISTEK. \n",
            "Pengelolaan. \n",
            "Dana \n",
            "BOSP. Juknis. Pencabutan. \n",
            " \n",
            " \n",
            "PERATURAN MENTERI PENDIDIKAN, KEBUDAYAAN, \n",
            "RISET, DAN TEKNOLOGI \n",
            "REPUBLIK INDONESIA \n",
            "NOMOR 63 TAHUN 2022 \n",
            "TENTANG \n",
            "PETUNJUK TEKNIS PENGELOLAAN \n",
            "DANA BANTUAN OPERASIONAL SATUAN PENDIDIKAN \n",
            " \n",
            "DENGAN RAHMAT TUHAN YANG MAHA ESA \n",
            " \n",
            "MENTERI PENDIDIKAN, KEBUDAYAAN, RISET, DAN TEKNOLOGI, \n",
            "REPUBLIK INDONESIA, \n",
            "  \n",
            " \n",
            "Menimbang \n",
            ":  a.  \n",
            "bahwa untuk pemerataan akses layanan pendidikan dan \n",
            "peningkatan \n",
            "mutu \n",
            "pembelajaran \n",
            "melalui \n",
            "satuan \n",
            "pendidikan \n",
            "diperlukan \n",
            "dukungan \n",
            "dana \n",
            "operasional \n",
            "satuan pendidikan yang dialokasikan melalui dana \n",
            "alokasi khusus nonfisik; \n",
            "b. \n",
            "bahwa \n",
            "agar \n",
            "pengelolaan \n",
            "dana \n",
            "operasional \n",
            "satuan \n",
            "pendidikan yang dialokasikan melalui dana alokasi \n",
            "khusus nonfisik dapat dikelola secara akuntabel dan \n",
            "tepat sasaran, perlu petunjuk teknis pengelolaan dana;  \n",
            "c. \n",
            "bahwa Peraturan Menteri Pendidikan, Kebudayaan, Riset, \n",
            "dan Teknologi Nomor 2 Tahun 2022 tentang \n",
            "\n",
            "=== Kepmen nomor 211 P 2024 Penerima BOP PAUD BOS kinerja BOP Kesetaraan kinerja 2024.pdf ===\n",
            "\n",
            "SALINAN \n",
            " \n",
            " \n",
            " \n",
            " \n",
            " \n",
            " \n",
            " \n",
            " \n",
            " \n",
            " \n",
            "KEPUTUSAN MENTERI PENDIDIKAN, KEBUDAYAAN, RISET, DAN TEKNOLOGI \n",
            "REPUBLIK INDONESIA \n",
            "NOMOR 211/P/2024 \n",
            "TENTANG \n",
            "PENERIMA DAN BESARAN ALOKASI DANA BANTUAN OPERASIONAL \n",
            "PENYELENGGARAAN PENDIDIKAN ANAK USIA DINI KINERJA, DANA \n",
            "BANTUAN OPERASIONAL SEKOLAH KINERJA, DAN DANA BANTUAN \n",
            "OPERASIONAL PENYELENGGARAAN PENDIDIKAN KESETARAAN KINERJA \n",
            "TAHUN ANGGARAN 2024 \n",
            " \n",
            "MENTERI PENDIDIKAN, KEBUDAYAAN, RISET, DAN TEKNOLOGI  \n",
            "REPUBLIK INDONESIA, \n",
            " \n",
            " \n",
            "Menimbang  :    bahwa untuk melaksanakan ketentuan Pasal 16, Pasal 21, \n",
            "Pasal 25, dan Pasal 29 Peraturan Menteri Pendidikan, \n",
            "Kebudayaan, Riset dan Teknologi Nomor 63 Tahun 2022 \n",
            "tentang Petunjuk Teknis Pengelolaan Bantuan Operasional \n",
            "Satuan \n",
            "Pendidikan \n",
            "sebagaimana \n",
            "telah \n",
            "diubah \n",
            "dengan \n",
            "Peraturan Menteri Pendidikan, Kebudayaan, Riset dan \n",
            "Teknologi Nomor 63 Tahun 2023 tentang Perubahan atas \n",
            "Peraturan Menteri Pendidikan, Kebudayaan, Riset dan \n",
            "Teknologi Nomor 63 Tahun 2022 tentang Petunjuk Teknis \n",
            "Pengelolaan Bantuan Oper\n"
          ]
        }
      ]
    },
    {
      "cell_type": "markdown",
      "source": [
        "# Preprocessing Data"
      ],
      "metadata": {
        "id": "AQ-aw2LwUTW2"
      }
    },
    {
      "cell_type": "code",
      "source": [
        "# ===============================\n",
        "# 4. PREPROCESSING TEKS\n",
        "# ===============================\n",
        "\n",
        "def clean_text(text):\n",
        "    \"\"\"Membersihkan teks dari karakter khusus dan spasi berlebih.\"\"\"\n",
        "    text = re.sub(r'\\n+', ' ', text)  # Hapus newline berlebih\n",
        "    text = re.sub(r'\\s+', ' ', text).strip()  # Hapus spasi berlebih\n",
        "    return text\n",
        "\n",
        "# Terapkan pembersihan ke semua teks yang telah diekstraksi\n",
        "cleaned_texts = {pdf: clean_text(text) for pdf, text in pdf_texts.items()}"
      ],
      "metadata": {
        "id": "_MVuvccVUV91"
      },
      "execution_count": 5,
      "outputs": []
    },
    {
      "cell_type": "markdown",
      "source": [
        "# Training Model"
      ],
      "metadata": {
        "id": "_TRngQpOU0vv"
      }
    },
    {
      "cell_type": "code",
      "source": [
        "# ===============================\n",
        "# 5. TOKENISASI & EMBEDDING TEKS\n",
        "# ===============================\n",
        "\n",
        "# Gabungkan semua teks untuk pembelajaran model\n",
        "all_text = \" \".join(cleaned_texts.values())\n",
        "\n",
        "# Tokenisasi kalimat\n",
        "sentences = sent_tokenize(all_text)\n",
        "\n",
        "# Load model Sentence Transformer untuk embedding teks\n",
        "model = SentenceTransformer('sentence-transformers/all-MiniLM-L6-v2')\n",
        "\n",
        "# Konversi kalimat menjadi vektor menggunakan model\n",
        "sentence_embeddings = model.encode(sentences, convert_to_tensor=True)"
      ],
      "metadata": {
        "colab": {
          "base_uri": "https://localhost:8080/"
        },
        "id": "PL7UayJwU2Za",
        "outputId": "5dbd0b1d-ec04-4e57-f5ba-0e20799351f9"
      },
      "execution_count": 6,
      "outputs": [
        {
          "output_type": "stream",
          "name": "stderr",
          "text": [
            "/usr/local/lib/python3.11/dist-packages/huggingface_hub/utils/_auth.py:94: UserWarning: \n",
            "The secret `HF_TOKEN` does not exist in your Colab secrets.\n",
            "To authenticate with the Hugging Face Hub, create a token in your settings tab (https://huggingface.co/settings/tokens), set it as secret in your Google Colab and restart your session.\n",
            "You will be able to reuse this secret in all of your notebooks.\n",
            "Please note that authentication is recommended but still optional to access public models or datasets.\n",
            "  warnings.warn(\n"
          ]
        }
      ]
    },
    {
      "cell_type": "markdown",
      "source": [
        "# Testing"
      ],
      "metadata": {
        "id": "tNdrpdq1VEse"
      }
    },
    {
      "cell_type": "code",
      "source": [
        "# ===============================\n",
        "# 6. TESTING CHATBOT\n",
        "# ===============================\n",
        "\n",
        "def search_query(query, sentences, model, sentence_embeddings):\n",
        "    \"\"\"Mencari jawaban terbaik berdasarkan query menggunakan model embedding.\"\"\"\n",
        "    query_embedding = model.encode(query, convert_to_tensor=True)\n",
        "    similarities = util.pytorch_cos_sim(query_embedding, sentence_embeddings)\n",
        "    best_match_idx = torch.argmax(similarities).item()\n",
        "    return sentences[best_match_idx]\n",
        "\n",
        "# Contoh pertanyaan pengguna\n",
        "question = \"Apa saja syarat penerima dana BOS?\"\n",
        "answer = search_query(question, sentences, model, sentence_embeddings)\n",
        "\n",
        "print(\"\\nPertanyaan:\", question)\n",
        "print(\"Jawaban:\", answer)"
      ],
      "metadata": {
        "colab": {
          "base_uri": "https://localhost:8080/"
        },
        "id": "xCHxhNuqVGav",
        "outputId": "c10e176b-a3fd-415f-e6b6-8c77d59faa09"
      },
      "execution_count": 7,
      "outputs": [
        {
          "output_type": "stream",
          "name": "stdout",
          "text": [
            "\n",
            "Pertanyaan: Apa saja syarat penerima dana BOS?\n",
            "Jawaban: Bagian Keempat Penetapan Penerima Dana BOSP Pasal 16 Penerima Dana BOSP yang memenuhi persyaratan sebagaimana dimaksud dalam Pasal 5, Pasal 6, Pasal 8, Pasal 10, Pasal 11 ayat (1), Pasal 12 ayat (1), Pasal 14, Pasal 15 ayat (1) ditetapkan dengan Keputusan Menteri untuk setiap tahun anggaran.\n"
          ]
        }
      ]
    }
  ]
}